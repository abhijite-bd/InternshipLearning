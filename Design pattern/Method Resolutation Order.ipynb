{
 "cells": [
  {
   "cell_type": "code",
   "execution_count": 1,
   "metadata": {},
   "outputs": [
    {
     "name": "stdout",
     "output_type": "stream",
     "text": [
      "Class D\n",
      "Class B\n",
      "Class C\n",
      "Class E\n",
      "Class A\n",
      "[<class '__main__.D'>, <class '__main__.B'>, <class '__main__.C'>, <class '__main__.E'>, <class '__main__.A'>, <class 'object'>]\n"
     ]
    }
   ],
   "source": [
    "class A:\n",
    "    def show(self):\n",
    "        print(\"Class A\")\n",
    "\n",
    "class B(A):\n",
    "    def show(self):\n",
    "        print(\"Class B\")\n",
    "        super().show()\n",
    "\n",
    "class C(A):\n",
    "    def show(self):\n",
    "        print(\"Class C\")\n",
    "        super().show()\n",
    "\n",
    "class E(A):  # E is now a subclass of A\n",
    "    def show(self):\n",
    "        print(\"Class E\")\n",
    "        super().show()\n",
    "\n",
    "class D(B, C, E):  # D inherits from B, C, and E\n",
    "    def show(self):\n",
    "        print(\"Class D\")\n",
    "        super().show()\n",
    "\n",
    "# Create an object of D\n",
    "obj = D()\n",
    "obj.show()\n",
    "\n",
    "# Check MRO\n",
    "print(D.mro())\n"
   ]
  },
  {
   "cell_type": "code",
   "execution_count": 4,
   "metadata": {},
   "outputs": [
    {
     "name": "stdout",
     "output_type": "stream",
     "text": [
      "Class D\n",
      "Class B\n",
      "Class C\n",
      "Class A\n",
      "[<class '__main__.D'>, <class '__main__.B'>, <class '__main__.C'>, <class '__main__.A'>, <class '__main__.E'>, <class 'object'>]\n"
     ]
    }
   ],
   "source": [
    "class A:\n",
    "    def show(self):\n",
    "        print(\"Class A\")\n",
    "\n",
    "class B(A):\n",
    "    def show(self):\n",
    "        print(\"Class B\")\n",
    "        super().show()\n",
    "\n",
    "class C(A):\n",
    "    def show(self):\n",
    "        print(\"Class C\")\n",
    "        super().show()\n",
    "\n",
    "class E:\n",
    "    def show(self):\n",
    "        print(\"Class E\")\n",
    "\n",
    "class D(B, C, E):  # Inherits from B, C, and E\n",
    "    def show(self):\n",
    "        print(\"Class D\")\n",
    "        super().show()\n",
    "\n",
    "# Create an object of D\n",
    "obj = D()\n",
    "obj.show()\n",
    "\n",
    "# Check MRO\n",
    "print(D.mro())\n"
   ]
  }
 ],
 "metadata": {
  "kernelspec": {
   "display_name": "Python 3",
   "language": "python",
   "name": "python3"
  },
  "language_info": {
   "codemirror_mode": {
    "name": "ipython",
    "version": 3
   },
   "file_extension": ".py",
   "mimetype": "text/x-python",
   "name": "python",
   "nbconvert_exporter": "python",
   "pygments_lexer": "ipython3",
   "version": "3.12.4"
  }
 },
 "nbformat": 4,
 "nbformat_minor": 2
}
