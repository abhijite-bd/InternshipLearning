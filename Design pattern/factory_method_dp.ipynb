{
 "cells": [
  {
   "cell_type": "markdown",
   "metadata": {},
   "source": [
    "What is ABC (Abstract Base Class)?\n",
    "\n",
    "    ABC stands for Abstract Base Class.\n",
    "    It is a class that cannot be instantiated directly.\n",
    "    It acts as a blueprint for other classes, ensuring they implement specific methods."
   ]
  },
  {
   "cell_type": "code",
   "execution_count": null,
   "metadata": {},
   "outputs": [],
   "source": [
    "from abc import ABC\n",
    "\n",
    "class Animal(ABC):  # Abstract Base Class\n",
    "    pass\n",
    "\n",
    "# Trying to instantiate will raise an error:\n",
    "animal = Animal()  # ❌ TypeError: Can't instantiate abstract class"
   ]
  },
  {
   "cell_type": "markdown",
   "metadata": {},
   "source": [
    "2. What is abstractmethod?\n",
    "\n",
    "    The @abstractmethod decorator is used to define a method that must be implemented in subclasses.\n",
    "    \n",
    "    If a subclass does not implement the abstract method, Python will raise an error."
   ]
  },
  {
   "cell_type": "code",
   "execution_count": 1,
   "metadata": {},
   "outputs": [
    {
     "name": "stdout",
     "output_type": "stream",
     "text": [
      "Meow!\n"
     ]
    }
   ],
   "source": [
    "from abc import ABC, abstractmethod\n",
    "\n",
    "class Animal(ABC):\n",
    "    @abstractmethod\n",
    "    def make_sound(self):\n",
    "        pass  # Abstract method with no implementation\n",
    "\n",
    "# ❌ This will fail because `Dog` has not implemented `make_sound`\n",
    "class Dog(Animal):\n",
    "    pass\n",
    "\n",
    "# dog = Dog()  # TypeError: Can't instantiate abstract class Dog without implementing 'make_sound'\n",
    "\n",
    "# ✅ Correct implementation\n",
    "class Cat(Animal):\n",
    "    def make_sound(self):\n",
    "        return \"Meow!\"\n",
    "\n",
    "cat = Cat()\n",
    "print(cat.make_sound())  # Output: Meow!\n"
   ]
  },
  {
   "cell_type": "markdown",
   "metadata": {},
   "source": [
    "Without Factory design pattern"
   ]
  },
  {
   "cell_type": "code",
   "execution_count": null,
   "metadata": {},
   "outputs": [],
   "source": [
    "class SkinCancerModel:\n",
    "    def predict(self, image):\n",
    "        pass  # Generic method (not enforced as abstract)\n",
    "\n",
    "class MobileNetV3Model(SkinCancerModel):\n",
    "    def predict(self, image):\n",
    "        return \"MobileNetV3: Predicting skin cancer\"\n",
    "\n",
    "class ResNetModel(SkinCancerModel):\n",
    "    def predict(self, image):\n",
    "        return \"ResNet: Predicting skin cancer\"\n",
    "\n",
    "# Function without factory pattern\n",
    "def get_prediction(model_type: str, image):\n",
    "    if model_type == \"MobileNetV3\":\n",
    "        model = MobileNetV3Model()  # Direct instantiation\n",
    "    elif model_type == \"ResNet\":\n",
    "        model = ResNetModel()  # Direct instantiation\n",
    "    else:\n",
    "        raise ValueError(\"Invalid model type\")\n",
    "\n",
    "    return model.predict(image)\n",
    "\n",
    "# Example usage:\n",
    "image_data = \"sample_skin_image\"\n",
    "\n",
    "print(get_prediction(\"MobileNetV3\", image_data))  # Output: MobileNetV3: Predicting skin cancer\n",
    "print(get_prediction(\"ResNet\", image_data))  # Output: ResNet: Predicting skin cancer\n"
   ]
  },
  {
   "cell_type": "code",
   "execution_count": 2,
   "metadata": {},
   "outputs": [],
   "source": [
    "from abc import ABC, abstractmethod\n",
    "\n",
    "class SkinCancerModel(ABC):\n",
    "    @abstractmethod\n",
    "    def predict(self, image):\n",
    "        pass"
   ]
  },
  {
   "cell_type": "code",
   "execution_count": null,
   "metadata": {},
   "outputs": [],
   "source": [
    "class MobileNetV3Model(SkinCancerModel):\n",
    "    def predict(self, image):\n",
    "        return \"Predicting with MobileNetV3 model\"\n",
    "\n",
    "class ResNetModel(SkinCancerModel):\n",
    "    def predict(self, image):\n",
    "        return \"Predicting with ResNet model\"\n"
   ]
  },
  {
   "cell_type": "code",
   "execution_count": 4,
   "metadata": {},
   "outputs": [],
   "source": [
    "class ModelFactory(ABC):\n",
    "    @abstractmethod\n",
    "    def create_model(self) -> SkinCancerModel:\n",
    "        pass\n",
    "\n",
    "class MobileNetV3Factory(ModelFactory):\n",
    "    def create_model(self) -> SkinCancerModel:\n",
    "        return MobileNetV3Model()\n",
    "\n",
    "class ResNetFactory(ModelFactory):\n",
    "    def create_model(self) -> SkinCancerModel:\n",
    "        return ResNetModel()\n"
   ]
  },
  {
   "cell_type": "code",
   "execution_count": null,
   "metadata": {},
   "outputs": [
    {
     "name": "stdout",
     "output_type": "stream",
     "text": [
      "Predicting with MobileNetV3 model\n",
      "Predicting with ResNet model\n"
     ]
    }
   ],
   "source": [
    "def get_prediction(factory: ModelFactory, image):\n",
    "    model = factory.create_model()\n",
    "    return model.predict(image)\n",
    "\n",
    "image_data = \"sample_image\"\n",
    "mobile_net_factory = MobileNetV3Factory()\n",
    "resnet_factory = ResNetFactory()\n",
    "\n",
    "print(get_prediction(mobile_net_factory, image_data))  # Output: Predicting with MobileNetV3 model\n",
    "print(get_prediction(resnet_factory, image_data))  # Output: Predicting with ResNet model\n"
   ]
  }
 ],
 "metadata": {
  "kernelspec": {
   "display_name": "Python 3",
   "language": "python",
   "name": "python3"
  },
  "language_info": {
   "codemirror_mode": {
    "name": "ipython",
    "version": 3
   },
   "file_extension": ".py",
   "mimetype": "text/x-python",
   "name": "python",
   "nbconvert_exporter": "python",
   "pygments_lexer": "ipython3",
   "version": "3.12.4"
  }
 },
 "nbformat": 4,
 "nbformat_minor": 2
}
