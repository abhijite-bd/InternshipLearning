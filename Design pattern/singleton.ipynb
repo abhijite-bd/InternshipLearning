{
 "cells": [
  {
   "cell_type": "markdown",
   "metadata": {},
   "source": [
    "The Singleton Design Pattern is a creational pattern that ensures **a class has only one instance** and provides a global point of access to that instance.\n",
    "It’s ideal for scenarios requiring centralized control, like managing database connections or configuration settings."
   ]
  },
  {
   "cell_type": "code",
   "execution_count": 4,
   "metadata": {},
   "outputs": [
    {
     "name": "stdout",
     "output_type": "stream",
     "text": [
      "create object\n",
      "True\n"
     ]
    }
   ],
   "source": [
    "class Singleton:\n",
    "    _instance=None\n",
    "    def __new__(cls):\n",
    "        if(cls._instance is None):\n",
    "            print(\"create object\")\n",
    "            cls._instance=super().__new__(cls)\n",
    "        return cls._instance\n",
    "obj1=Singleton()\n",
    "obj2=Singleton()\n",
    "obj2=Singleton()\n",
    "print(obj1==obj2)"
   ]
  },
  {
   "cell_type": "markdown",
   "metadata": {},
   "source": [
    "obj = MyClass.__new__(MyClass)\n",
    "\n",
    "    This only calls the __new__() method.\n",
    "    It creates a new object but does not initialize it with __init__()."
   ]
  },
  {
   "cell_type": "code",
   "execution_count": 5,
   "metadata": {},
   "outputs": [
    {
     "name": "stdout",
     "output_type": "stream",
     "text": [
      "Inside __new__\n",
      "<class '__main__.MyClass'>\n"
     ]
    }
   ],
   "source": [
    "class MyClass:\n",
    "    def __new__(cls):\n",
    "        print(\"Inside __new__\")\n",
    "        return super().__new__(cls)\n",
    "\n",
    "    def __init__(self):\n",
    "        print(\"Inside __init__\")\n",
    "\n",
    "obj = MyClass.__new__(MyClass)  # Only calls __new__()\n",
    "print(type(obj))  # <class '__main__.MyClass'> (Object created but not initialized)\n"
   ]
  },
  {
   "cell_type": "markdown",
   "metadata": {},
   "source": [
    "obj = MyClass()\n",
    "\n",
    "    This first calls __new__() to create the object.\n",
    "    Then it calls __init__() to initialize the object."
   ]
  },
  {
   "cell_type": "code",
   "execution_count": 6,
   "metadata": {},
   "outputs": [
    {
     "name": "stdout",
     "output_type": "stream",
     "text": [
      "Inside __new__\n",
      "Inside __init__\n"
     ]
    }
   ],
   "source": [
    "obj = MyClass()  # Calls both __new__() and __init__()\n"
   ]
  },
  {
   "cell_type": "markdown",
   "metadata": {},
   "source": [
    "When Would You Use __new__() Directly?\n",
    "\n",
    "You might use __new__() directly when you want to create an object without calling __init__(), such as:\n",
    "\n",
    "    When creating immutable objects (like tuples, strings).\n",
    "    When implementing Singletons or other patterns that control instance creation.\n",
    "    "
   ]
  }
 ],
 "metadata": {
  "kernelspec": {
   "display_name": "Python 3",
   "language": "python",
   "name": "python3"
  },
  "language_info": {
   "codemirror_mode": {
    "name": "ipython",
    "version": 3
   },
   "file_extension": ".py",
   "mimetype": "text/x-python",
   "name": "python",
   "nbconvert_exporter": "python",
   "pygments_lexer": "ipython3",
   "version": "3.12.4"
  }
 },
 "nbformat": 4,
 "nbformat_minor": 2
}
